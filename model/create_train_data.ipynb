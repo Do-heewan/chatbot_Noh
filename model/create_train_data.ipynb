{
 "cells": [
  {
   "cell_type": "code",
   "execution_count": 3,
   "metadata": {},
   "outputs": [],
   "source": [
    "import pandas as pd\n",
    "import numpy as np\n",
    "import matplotlib.pyplot as plt\n",
    "import seaborn as sns\n",
    "from konlpy.tag import Komoran\n",
    "import matplotlib.pyplot as plt"
   ]
  },
  {
   "cell_type": "code",
   "execution_count": 5,
   "metadata": {},
   "outputs": [],
   "source": [
    "movie = pd.read_csv(\"../new_data/영화리뷰.csv\")\n",
    "\n",
    "movie.dropna(inplace=True)"
   ]
  },
  {
   "cell_type": "code",
   "execution_count": 7,
   "metadata": {},
   "outputs": [
    {
     "name": "stdout",
     "output_type": "stream",
     "text": [
      "movie shape => (199992, 3)\n",
      "\n"
     ]
    }
   ],
   "source": [
    "print(f\"movie shape => {movie.shape}\\n\")"
   ]
  },
  {
   "cell_type": "code",
   "execution_count": 8,
   "metadata": {},
   "outputs": [
    {
     "data": {
      "text/plain": [
       "Index(['id', 'document', 'label'], dtype='object')"
      ]
     },
     "execution_count": 8,
     "metadata": {},
     "output_type": "execute_result"
    }
   ],
   "source": [
    "movie.columns"
   ]
  },
  {
   "cell_type": "code",
   "execution_count": 9,
   "metadata": {},
   "outputs": [],
   "source": [
    "all_data = list(movie['document'])"
   ]
  },
  {
   "cell_type": "code",
   "execution_count": 10,
   "metadata": {},
   "outputs": [
    {
     "data": {
      "text/plain": [
       "199992"
      ]
     },
     "execution_count": 10,
     "metadata": {},
     "output_type": "execute_result"
    }
   ],
   "source": [
    "len(all_data)"
   ]
  },
  {
   "cell_type": "code",
   "execution_count": 11,
   "metadata": {},
   "outputs": [],
   "source": [
    "# 통합본 생성하고 저장하기\n",
    "total = pd.DataFrame({'text': all_data})\n",
    "total.to_csv(\"../new_data/통합본데이터.csv\", index=False)"
   ]
  },
  {
   "cell_type": "code",
   "execution_count": 14,
   "metadata": {},
   "outputs": [],
   "source": [
    "number = []\n",
    "place = []\n",
    "time = []\n",
    "etc = []\n",
    "\n",
    "for i in all_data:\n",
    "    if ('어디' or '장소' or '위치' or '주소') in i: place.append(i)\n",
    "    elif ('번호' or '전화') in i: number.append(i)\n",
    "    elif ('시작' or '마감' or '언제' or '기간' or '시간') in i: time.append(i)\n",
    "    else: etc.append(i)"
   ]
  },
  {
   "cell_type": "code",
   "execution_count": 15,
   "metadata": {},
   "outputs": [
    {
     "data": {
      "text/plain": [
       "15"
      ]
     },
     "execution_count": 15,
     "metadata": {},
     "output_type": "execute_result"
    }
   ],
   "source": [
    "len(number)"
   ]
  },
  {
   "cell_type": "code",
   "execution_count": 16,
   "metadata": {},
   "outputs": [
    {
     "data": {
      "text/plain": [
       "15"
      ]
     },
     "execution_count": 16,
     "metadata": {},
     "output_type": "execute_result"
    }
   ],
   "source": [
    "number_label = []\n",
    "for _ in range(len(number)):\n",
    "    number_label.append(0)\n",
    "len(number_label)"
   ]
  },
  {
   "cell_type": "code",
   "execution_count": 18,
   "metadata": {},
   "outputs": [
    {
     "data": {
      "text/plain": [
       "1160"
      ]
     },
     "execution_count": 18,
     "metadata": {},
     "output_type": "execute_result"
    }
   ],
   "source": [
    "len(place)"
   ]
  },
  {
   "cell_type": "code",
   "execution_count": 19,
   "metadata": {},
   "outputs": [
    {
     "data": {
      "text/plain": [
       "1160"
      ]
     },
     "execution_count": 19,
     "metadata": {},
     "output_type": "execute_result"
    }
   ],
   "source": [
    "place_label = []\n",
    "for _ in range(len(place)):\n",
    "    place_label.append(1)\n",
    "len(place_label)"
   ]
  },
  {
   "cell_type": "code",
   "execution_count": 20,
   "metadata": {},
   "outputs": [
    {
     "data": {
      "text/plain": [
       "1034"
      ]
     },
     "execution_count": 20,
     "metadata": {},
     "output_type": "execute_result"
    }
   ],
   "source": [
    "len(time)"
   ]
  },
  {
   "cell_type": "code",
   "execution_count": 21,
   "metadata": {},
   "outputs": [
    {
     "data": {
      "text/plain": [
       "1034"
      ]
     },
     "execution_count": 21,
     "metadata": {},
     "output_type": "execute_result"
    }
   ],
   "source": [
    "time_label = []\n",
    "for _ in range(len(time)):\n",
    "    time_label.append(2)\n",
    "len(time_label)"
   ]
  },
  {
   "cell_type": "code",
   "execution_count": 22,
   "metadata": {},
   "outputs": [],
   "source": [
    "train_df = pd.DataFrame({'text':number+place+time,\n",
    "                        'label':number_label+place_label+time_label})"
   ]
  },
  {
   "cell_type": "code",
   "execution_count": 23,
   "metadata": {},
   "outputs": [
    {
     "data": {
      "text/html": [
       "<div>\n",
       "<style scoped>\n",
       "    .dataframe tbody tr th:only-of-type {\n",
       "        vertical-align: middle;\n",
       "    }\n",
       "\n",
       "    .dataframe tbody tr th {\n",
       "        vertical-align: top;\n",
       "    }\n",
       "\n",
       "    .dataframe thead th {\n",
       "        text-align: right;\n",
       "    }\n",
       "</style>\n",
       "<table border=\"1\" class=\"dataframe\">\n",
       "  <thead>\n",
       "    <tr style=\"text-align: right;\">\n",
       "      <th></th>\n",
       "      <th>text</th>\n",
       "      <th>label</th>\n",
       "    </tr>\n",
       "  </thead>\n",
       "  <tbody>\n",
       "    <tr>\n",
       "      <th>0</th>\n",
       "      <td>이 영화 있는사람 공유 부탁합니다 제 폰번호 010 4427 2774 연락한통만요^-^;</td>\n",
       "      <td>0</td>\n",
       "    </tr>\n",
       "    <tr>\n",
       "      <th>1</th>\n",
       "      <td>작가때문에 1점 주려다가 영화가 너무 좋아서 10점줌비행기를 끌고 추운곳에다 추락시...</td>\n",
       "      <td>0</td>\n",
       "    </tr>\n",
       "    <tr>\n",
       "      <th>2</th>\n",
       "      <td>비밀번호가 뭐야? 서윤내사랑 ㅋ_ㅋ</td>\n",
       "      <td>0</td>\n",
       "    </tr>\n",
       "    <tr>\n",
       "      <th>3</th>\n",
       "      <td>용팔이 시르즈를 볼려면 어떻게 하는지.전화번호좀</td>\n",
       "      <td>0</td>\n",
       "    </tr>\n",
       "    <tr>\n",
       "      <th>4</th>\n",
       "      <td>보다 말았는데 심장 졸라 쫄깃해진다;; 근데 여주 졸라 답답함. 세면대 물기 닦는 ...</td>\n",
       "      <td>0</td>\n",
       "    </tr>\n",
       "  </tbody>\n",
       "</table>\n",
       "</div>"
      ],
      "text/plain": [
       "                                                text  label\n",
       "0  이 영화 있는사람 공유 부탁합니다 제 폰번호 010 4427 2774 연락한통만요^-^;      0\n",
       "1  작가때문에 1점 주려다가 영화가 너무 좋아서 10점줌비행기를 끌고 추운곳에다 추락시...      0\n",
       "2                                비밀번호가 뭐야? 서윤내사랑 ㅋ_ㅋ      0\n",
       "3                         용팔이 시르즈를 볼려면 어떻게 하는지.전화번호좀      0\n",
       "4  보다 말았는데 심장 졸라 쫄깃해진다;; 근데 여주 졸라 답답함. 세면대 물기 닦는 ...      0"
      ]
     },
     "execution_count": 23,
     "metadata": {},
     "output_type": "execute_result"
    }
   ],
   "source": [
    "train_df.head()"
   ]
  },
  {
   "cell_type": "code",
   "execution_count": 24,
   "metadata": {},
   "outputs": [
    {
     "data": {
      "text/html": [
       "<div>\n",
       "<style scoped>\n",
       "    .dataframe tbody tr th:only-of-type {\n",
       "        vertical-align: middle;\n",
       "    }\n",
       "\n",
       "    .dataframe tbody tr th {\n",
       "        vertical-align: top;\n",
       "    }\n",
       "\n",
       "    .dataframe thead th {\n",
       "        text-align: right;\n",
       "    }\n",
       "</style>\n",
       "<table border=\"1\" class=\"dataframe\">\n",
       "  <thead>\n",
       "    <tr style=\"text-align: right;\">\n",
       "      <th></th>\n",
       "      <th>text</th>\n",
       "      <th>label</th>\n",
       "    </tr>\n",
       "  </thead>\n",
       "  <tbody>\n",
       "    <tr>\n",
       "      <th>2204</th>\n",
       "      <td>아놔 로그인 하게 만드는;; 시작할때는 그럴듯하게 광고하더니 뒤로 갈수록 왜 이렇게...</td>\n",
       "      <td>2</td>\n",
       "    </tr>\n",
       "    <tr>\n",
       "      <th>2205</th>\n",
       "      <td>난 이제 악당이랑 치고 박고 딸을 구하겠구나 싶었는데 끝나더라.. 진짜 허무했음. ...</td>\n",
       "      <td>2</td>\n",
       "    </tr>\n",
       "    <tr>\n",
       "      <th>2206</th>\n",
       "      <td>시작하자마자 멍청한 홍콩경찰들</td>\n",
       "      <td>2</td>\n",
       "    </tr>\n",
       "    <tr>\n",
       "      <th>2207</th>\n",
       "      <td>ㅋ 우스운영화를보았음..한국공포가 왜이래 한30년전에찍었었나..제대로보여주는것암것도...</td>\n",
       "      <td>2</td>\n",
       "    </tr>\n",
       "    <tr>\n",
       "      <th>2208</th>\n",
       "      <td>영화가 시작하고 10분이 지났는데 끄고싶다...끝까지본 내가 자랑스럽다....뻔함의...</td>\n",
       "      <td>2</td>\n",
       "    </tr>\n",
       "  </tbody>\n",
       "</table>\n",
       "</div>"
      ],
      "text/plain": [
       "                                                   text  label\n",
       "2204  아놔 로그인 하게 만드는;; 시작할때는 그럴듯하게 광고하더니 뒤로 갈수록 왜 이렇게...      2\n",
       "2205  난 이제 악당이랑 치고 박고 딸을 구하겠구나 싶었는데 끝나더라.. 진짜 허무했음. ...      2\n",
       "2206                                   시작하자마자 멍청한 홍콩경찰들      2\n",
       "2207  ㅋ 우스운영화를보았음..한국공포가 왜이래 한30년전에찍었었나..제대로보여주는것암것도...      2\n",
       "2208  영화가 시작하고 10분이 지났는데 끄고싶다...끝까지본 내가 자랑스럽다....뻔함의...      2"
      ]
     },
     "execution_count": 24,
     "metadata": {},
     "output_type": "execute_result"
    }
   ],
   "source": [
    "train_df.tail()"
   ]
  },
  {
   "cell_type": "code",
   "execution_count": 25,
   "metadata": {},
   "outputs": [
    {
     "data": {
      "text/html": [
       "<div>\n",
       "<style scoped>\n",
       "    .dataframe tbody tr th:only-of-type {\n",
       "        vertical-align: middle;\n",
       "    }\n",
       "\n",
       "    .dataframe tbody tr th {\n",
       "        vertical-align: top;\n",
       "    }\n",
       "\n",
       "    .dataframe thead th {\n",
       "        text-align: right;\n",
       "    }\n",
       "</style>\n",
       "<table border=\"1\" class=\"dataframe\">\n",
       "  <thead>\n",
       "    <tr style=\"text-align: right;\">\n",
       "      <th></th>\n",
       "      <th>text</th>\n",
       "      <th>label</th>\n",
       "    </tr>\n",
       "  </thead>\n",
       "  <tbody>\n",
       "    <tr>\n",
       "      <th>0</th>\n",
       "      <td>이 영화 있는사람 공유 부탁합니다 제 폰번호 010 4427 2774 연락한통만요^-^;</td>\n",
       "      <td>0</td>\n",
       "    </tr>\n",
       "    <tr>\n",
       "      <th>1</th>\n",
       "      <td>작가때문에 1점 주려다가 영화가 너무 좋아서 10점줌비행기를 끌고 추운곳에다 추락시...</td>\n",
       "      <td>0</td>\n",
       "    </tr>\n",
       "    <tr>\n",
       "      <th>2</th>\n",
       "      <td>비밀번호가 뭐야? 서윤내사랑 ㅋ_ㅋ</td>\n",
       "      <td>0</td>\n",
       "    </tr>\n",
       "    <tr>\n",
       "      <th>3</th>\n",
       "      <td>용팔이 시르즈를 볼려면 어떻게 하는지.전화번호좀</td>\n",
       "      <td>0</td>\n",
       "    </tr>\n",
       "    <tr>\n",
       "      <th>4</th>\n",
       "      <td>보다 말았는데 심장 졸라 쫄깃해진다;; 근데 여주 졸라 답답함. 세면대 물기 닦는 ...</td>\n",
       "      <td>0</td>\n",
       "    </tr>\n",
       "    <tr>\n",
       "      <th>5</th>\n",
       "      <td>사실을 말해 주지 않아 1점. 막판 없는 주민 번호라 할때 대반전 서스펜스 공포영화...</td>\n",
       "      <td>0</td>\n",
       "    </tr>\n",
       "    <tr>\n",
       "      <th>6</th>\n",
       "      <td>이영화만든감독님 전화 번호 아시는분? ㅎㅎㅎㅎ귓속에대고 조근조근한말투로 따뜻한욕 한...</td>\n",
       "      <td>0</td>\n",
       "    </tr>\n",
       "    <tr>\n",
       "      <th>7</th>\n",
       "      <td>채권맡긴날 그리고 3개월후 채권찾는날, 은행 뒤편의 전광판날짜가 똑같네. 대기번호까...</td>\n",
       "      <td>0</td>\n",
       "    </tr>\n",
       "    <tr>\n",
       "      <th>8</th>\n",
       "      <td>진짜 잼있다 숟가락 번호 맞추기 ㅋㅋ 영화시작 한지 20불만에 눈감고 끝날때까지 피...</td>\n",
       "      <td>0</td>\n",
       "    </tr>\n",
       "    <tr>\n",
       "      <th>9</th>\n",
       "      <td>개발연기에, 논리라는 말도 붙이기 민망한 비약. 화투패의 주민번호 소유주가 죽는다....</td>\n",
       "      <td>0</td>\n",
       "    </tr>\n",
       "    <tr>\n",
       "      <th>10</th>\n",
       "      <td>12년동안 돈많은 남편한테 붙어 있으면서 애인은 따로 두고 죽을 때 되니 사랑하는 ...</td>\n",
       "      <td>0</td>\n",
       "    </tr>\n",
       "    <tr>\n",
       "      <th>11</th>\n",
       "      <td>전화번호부 보는 느낌,</td>\n",
       "      <td>0</td>\n",
       "    </tr>\n",
       "    <tr>\n",
       "      <th>12</th>\n",
       "      <td>어사일럼 여기서 만든 영화는 다 이렇다 허접의 진수성찬이라고 할까 모든게 어색하지만...</td>\n",
       "      <td>0</td>\n",
       "    </tr>\n",
       "    <tr>\n",
       "      <th>13</th>\n",
       "      <td>코메디 인줄.... 테러범이라는 애들이 비밀번호는 죄다 기념일이고 일반인한테 맞고다...</td>\n",
       "      <td>0</td>\n",
       "    </tr>\n",
       "    <tr>\n",
       "      <th>14</th>\n",
       "      <td>이승준 2번 다시 영화 찍지 마라.. 연기 더럽게 못하고 어색하네 18.. 내용도 ...</td>\n",
       "      <td>0</td>\n",
       "    </tr>\n",
       "  </tbody>\n",
       "</table>\n",
       "</div>"
      ],
      "text/plain": [
       "                                                 text  label\n",
       "0   이 영화 있는사람 공유 부탁합니다 제 폰번호 010 4427 2774 연락한통만요^-^;      0\n",
       "1   작가때문에 1점 주려다가 영화가 너무 좋아서 10점줌비행기를 끌고 추운곳에다 추락시...      0\n",
       "2                                 비밀번호가 뭐야? 서윤내사랑 ㅋ_ㅋ      0\n",
       "3                          용팔이 시르즈를 볼려면 어떻게 하는지.전화번호좀      0\n",
       "4   보다 말았는데 심장 졸라 쫄깃해진다;; 근데 여주 졸라 답답함. 세면대 물기 닦는 ...      0\n",
       "5   사실을 말해 주지 않아 1점. 막판 없는 주민 번호라 할때 대반전 서스펜스 공포영화...      0\n",
       "6   이영화만든감독님 전화 번호 아시는분? ㅎㅎㅎㅎ귓속에대고 조근조근한말투로 따뜻한욕 한...      0\n",
       "7   채권맡긴날 그리고 3개월후 채권찾는날, 은행 뒤편의 전광판날짜가 똑같네. 대기번호까...      0\n",
       "8   진짜 잼있다 숟가락 번호 맞추기 ㅋㅋ 영화시작 한지 20불만에 눈감고 끝날때까지 피...      0\n",
       "9   개발연기에, 논리라는 말도 붙이기 민망한 비약. 화투패의 주민번호 소유주가 죽는다....      0\n",
       "10  12년동안 돈많은 남편한테 붙어 있으면서 애인은 따로 두고 죽을 때 되니 사랑하는 ...      0\n",
       "11                                       전화번호부 보는 느낌,      0\n",
       "12  어사일럼 여기서 만든 영화는 다 이렇다 허접의 진수성찬이라고 할까 모든게 어색하지만...      0\n",
       "13  코메디 인줄.... 테러범이라는 애들이 비밀번호는 죄다 기념일이고 일반인한테 맞고다...      0\n",
       "14  이승준 2번 다시 영화 찍지 마라.. 연기 더럽게 못하고 어색하네 18.. 내용도 ...      0"
      ]
     },
     "execution_count": 25,
     "metadata": {},
     "output_type": "execute_result"
    }
   ],
   "source": [
    "train_df[train_df['label']==0]"
   ]
  },
  {
   "cell_type": "code",
   "execution_count": 26,
   "metadata": {},
   "outputs": [
    {
     "data": {
      "text/html": [
       "<div>\n",
       "<style scoped>\n",
       "    .dataframe tbody tr th:only-of-type {\n",
       "        vertical-align: middle;\n",
       "    }\n",
       "\n",
       "    .dataframe tbody tr th {\n",
       "        vertical-align: top;\n",
       "    }\n",
       "\n",
       "    .dataframe thead th {\n",
       "        text-align: right;\n",
       "    }\n",
       "</style>\n",
       "<table border=\"1\" class=\"dataframe\">\n",
       "  <thead>\n",
       "    <tr style=\"text-align: right;\">\n",
       "      <th></th>\n",
       "      <th>text</th>\n",
       "      <th>label</th>\n",
       "    </tr>\n",
       "  </thead>\n",
       "  <tbody>\n",
       "    <tr>\n",
       "      <th>15</th>\n",
       "      <td>실화여서 더욱 충격, 다시는 어디에서도 일어나서는 안될 경각심을 일깨워주는 영화</td>\n",
       "      <td>1</td>\n",
       "    </tr>\n",
       "    <tr>\n",
       "      <th>16</th>\n",
       "      <td>정말재밋게 봣는대요 어디서 받을수잇조?</td>\n",
       "      <td>1</td>\n",
       "    </tr>\n",
       "    <tr>\n",
       "      <th>17</th>\n",
       "      <td>너무너무재밌게보고있어요! 중간부터 본방사수했지만 스토리가 탄탄하고 흥미진진해서 1화...</td>\n",
       "      <td>1</td>\n",
       "    </tr>\n",
       "    <tr>\n",
       "      <th>18</th>\n",
       "      <td>역시 이정도라 도 어디냐 이런거 다시는 보기 힘들거다</td>\n",
       "      <td>1</td>\n",
       "    </tr>\n",
       "    <tr>\n",
       "      <th>19</th>\n",
       "      <td>개인적으로 메카닉 보다 좀더 잼있었고, 적이 알고보니깐 영화 거침없이 쏴라 슛뎀업에...</td>\n",
       "      <td>1</td>\n",
       "    </tr>\n",
       "    <tr>\n",
       "      <th>...</th>\n",
       "      <td>...</td>\n",
       "      <td>...</td>\n",
       "    </tr>\n",
       "    <tr>\n",
       "      <th>1170</th>\n",
       "      <td>두남자의 숨막히는 추격전??? 어디??? 아...짱나~</td>\n",
       "      <td>1</td>\n",
       "    </tr>\n",
       "    <tr>\n",
       "      <th>1171</th>\n",
       "      <td>선비의 자손으로서 아주 복장 터지는 영화!! 황새는 황새다워야 하고 뱃새는 뱃새다워...</td>\n",
       "      <td>1</td>\n",
       "    </tr>\n",
       "    <tr>\n",
       "      <th>1172</th>\n",
       "      <td>감독 집이 어디냐</td>\n",
       "      <td>1</td>\n",
       "    </tr>\n",
       "    <tr>\n",
       "      <th>1173</th>\n",
       "      <td>satc원작 드라마에 먹칠을 한거 같은 영화드라마도 5후반까진 괜찮았으나 인기입어 ...</td>\n",
       "      <td>1</td>\n",
       "    </tr>\n",
       "    <tr>\n",
       "      <th>1174</th>\n",
       "      <td>이게 실화라고 장난하나 18.. 세상에 하나님이 어디 있다고.. 영화도 개독교에 미...</td>\n",
       "      <td>1</td>\n",
       "    </tr>\n",
       "  </tbody>\n",
       "</table>\n",
       "<p>1160 rows × 2 columns</p>\n",
       "</div>"
      ],
      "text/plain": [
       "                                                   text  label\n",
       "15         실화여서 더욱 충격, 다시는 어디에서도 일어나서는 안될 경각심을 일깨워주는 영화      1\n",
       "16                                정말재밋게 봣는대요 어디서 받을수잇조?      1\n",
       "17    너무너무재밌게보고있어요! 중간부터 본방사수했지만 스토리가 탄탄하고 흥미진진해서 1화...      1\n",
       "18                        역시 이정도라 도 어디냐 이런거 다시는 보기 힘들거다      1\n",
       "19    개인적으로 메카닉 보다 좀더 잼있었고, 적이 알고보니깐 영화 거침없이 쏴라 슛뎀업에...      1\n",
       "...                                                 ...    ...\n",
       "1170                     두남자의 숨막히는 추격전??? 어디??? 아...짱나~      1\n",
       "1171  선비의 자손으로서 아주 복장 터지는 영화!! 황새는 황새다워야 하고 뱃새는 뱃새다워...      1\n",
       "1172                                          감독 집이 어디냐      1\n",
       "1173  satc원작 드라마에 먹칠을 한거 같은 영화드라마도 5후반까진 괜찮았으나 인기입어 ...      1\n",
       "1174  이게 실화라고 장난하나 18.. 세상에 하나님이 어디 있다고.. 영화도 개독교에 미...      1\n",
       "\n",
       "[1160 rows x 2 columns]"
      ]
     },
     "execution_count": 26,
     "metadata": {},
     "output_type": "execute_result"
    }
   ],
   "source": [
    "train_df[train_df['label']==1]"
   ]
  },
  {
   "cell_type": "code",
   "execution_count": 27,
   "metadata": {},
   "outputs": [
    {
     "data": {
      "text/html": [
       "<div>\n",
       "<style scoped>\n",
       "    .dataframe tbody tr th:only-of-type {\n",
       "        vertical-align: middle;\n",
       "    }\n",
       "\n",
       "    .dataframe tbody tr th {\n",
       "        vertical-align: top;\n",
       "    }\n",
       "\n",
       "    .dataframe thead th {\n",
       "        text-align: right;\n",
       "    }\n",
       "</style>\n",
       "<table border=\"1\" class=\"dataframe\">\n",
       "  <thead>\n",
       "    <tr style=\"text-align: right;\">\n",
       "      <th></th>\n",
       "      <th>text</th>\n",
       "      <th>label</th>\n",
       "    </tr>\n",
       "  </thead>\n",
       "  <tbody>\n",
       "    <tr>\n",
       "      <th>1175</th>\n",
       "      <td>잊을 수 없는 그대여, 6월이 되고 비가 내려야 그대가 보이기 시작합니다.</td>\n",
       "      <td>2</td>\n",
       "    </tr>\n",
       "    <tr>\n",
       "      <th>1176</th>\n",
       "      <td>중반부까지 진짜 몰입하고 봤는데 갑자기 러브스토리부터 깨기시작</td>\n",
       "      <td>2</td>\n",
       "    </tr>\n",
       "    <tr>\n",
       "      <th>1177</th>\n",
       "      <td>이것이 바로 전설의 시작</td>\n",
       "      <td>2</td>\n",
       "    </tr>\n",
       "    <tr>\n",
       "      <th>1178</th>\n",
       "      <td>아름다운 영화. 다만 바이올린에서 시작하여 첫사랑으로 끝나는 과정이 썩 매끄럽지만은...</td>\n",
       "      <td>2</td>\n",
       "    </tr>\n",
       "    <tr>\n",
       "      <th>1179</th>\n",
       "      <td>반전, 그 시작과 끝이다</td>\n",
       "      <td>2</td>\n",
       "    </tr>\n",
       "    <tr>\n",
       "      <th>...</th>\n",
       "      <td>...</td>\n",
       "      <td>...</td>\n",
       "    </tr>\n",
       "    <tr>\n",
       "      <th>2204</th>\n",
       "      <td>아놔 로그인 하게 만드는;; 시작할때는 그럴듯하게 광고하더니 뒤로 갈수록 왜 이렇게...</td>\n",
       "      <td>2</td>\n",
       "    </tr>\n",
       "    <tr>\n",
       "      <th>2205</th>\n",
       "      <td>난 이제 악당이랑 치고 박고 딸을 구하겠구나 싶었는데 끝나더라.. 진짜 허무했음. ...</td>\n",
       "      <td>2</td>\n",
       "    </tr>\n",
       "    <tr>\n",
       "      <th>2206</th>\n",
       "      <td>시작하자마자 멍청한 홍콩경찰들</td>\n",
       "      <td>2</td>\n",
       "    </tr>\n",
       "    <tr>\n",
       "      <th>2207</th>\n",
       "      <td>ㅋ 우스운영화를보았음..한국공포가 왜이래 한30년전에찍었었나..제대로보여주는것암것도...</td>\n",
       "      <td>2</td>\n",
       "    </tr>\n",
       "    <tr>\n",
       "      <th>2208</th>\n",
       "      <td>영화가 시작하고 10분이 지났는데 끄고싶다...끝까지본 내가 자랑스럽다....뻔함의...</td>\n",
       "      <td>2</td>\n",
       "    </tr>\n",
       "  </tbody>\n",
       "</table>\n",
       "<p>1034 rows × 2 columns</p>\n",
       "</div>"
      ],
      "text/plain": [
       "                                                   text  label\n",
       "1175          잊을 수 없는 그대여, 6월이 되고 비가 내려야 그대가 보이기 시작합니다.      2\n",
       "1176                 중반부까지 진짜 몰입하고 봤는데 갑자기 러브스토리부터 깨기시작      2\n",
       "1177                                      이것이 바로 전설의 시작      2\n",
       "1178  아름다운 영화. 다만 바이올린에서 시작하여 첫사랑으로 끝나는 과정이 썩 매끄럽지만은...      2\n",
       "1179                                      반전, 그 시작과 끝이다      2\n",
       "...                                                 ...    ...\n",
       "2204  아놔 로그인 하게 만드는;; 시작할때는 그럴듯하게 광고하더니 뒤로 갈수록 왜 이렇게...      2\n",
       "2205  난 이제 악당이랑 치고 박고 딸을 구하겠구나 싶었는데 끝나더라.. 진짜 허무했음. ...      2\n",
       "2206                                   시작하자마자 멍청한 홍콩경찰들      2\n",
       "2207  ㅋ 우스운영화를보았음..한국공포가 왜이래 한30년전에찍었었나..제대로보여주는것암것도...      2\n",
       "2208  영화가 시작하고 10분이 지났는데 끄고싶다...끝까지본 내가 자랑스럽다....뻔함의...      2\n",
       "\n",
       "[1034 rows x 2 columns]"
      ]
     },
     "execution_count": 27,
     "metadata": {},
     "output_type": "execute_result"
    }
   ],
   "source": [
    "train_df[train_df['label']==2]"
   ]
  },
  {
   "cell_type": "code",
   "execution_count": 28,
   "metadata": {},
   "outputs": [],
   "source": [
    "train_df.reset_index(drop=True, inplace=True)"
   ]
  },
  {
   "cell_type": "code",
   "execution_count": 29,
   "metadata": {},
   "outputs": [
    {
     "data": {
      "text/html": [
       "<div>\n",
       "<style scoped>\n",
       "    .dataframe tbody tr th:only-of-type {\n",
       "        vertical-align: middle;\n",
       "    }\n",
       "\n",
       "    .dataframe tbody tr th {\n",
       "        vertical-align: top;\n",
       "    }\n",
       "\n",
       "    .dataframe thead th {\n",
       "        text-align: right;\n",
       "    }\n",
       "</style>\n",
       "<table border=\"1\" class=\"dataframe\">\n",
       "  <thead>\n",
       "    <tr style=\"text-align: right;\">\n",
       "      <th></th>\n",
       "      <th>text</th>\n",
       "      <th>label</th>\n",
       "    </tr>\n",
       "  </thead>\n",
       "  <tbody>\n",
       "    <tr>\n",
       "      <th>2204</th>\n",
       "      <td>아놔 로그인 하게 만드는;; 시작할때는 그럴듯하게 광고하더니 뒤로 갈수록 왜 이렇게...</td>\n",
       "      <td>2</td>\n",
       "    </tr>\n",
       "    <tr>\n",
       "      <th>2205</th>\n",
       "      <td>난 이제 악당이랑 치고 박고 딸을 구하겠구나 싶었는데 끝나더라.. 진짜 허무했음. ...</td>\n",
       "      <td>2</td>\n",
       "    </tr>\n",
       "    <tr>\n",
       "      <th>2206</th>\n",
       "      <td>시작하자마자 멍청한 홍콩경찰들</td>\n",
       "      <td>2</td>\n",
       "    </tr>\n",
       "    <tr>\n",
       "      <th>2207</th>\n",
       "      <td>ㅋ 우스운영화를보았음..한국공포가 왜이래 한30년전에찍었었나..제대로보여주는것암것도...</td>\n",
       "      <td>2</td>\n",
       "    </tr>\n",
       "    <tr>\n",
       "      <th>2208</th>\n",
       "      <td>영화가 시작하고 10분이 지났는데 끄고싶다...끝까지본 내가 자랑스럽다....뻔함의...</td>\n",
       "      <td>2</td>\n",
       "    </tr>\n",
       "  </tbody>\n",
       "</table>\n",
       "</div>"
      ],
      "text/plain": [
       "                                                   text  label\n",
       "2204  아놔 로그인 하게 만드는;; 시작할때는 그럴듯하게 광고하더니 뒤로 갈수록 왜 이렇게...      2\n",
       "2205  난 이제 악당이랑 치고 박고 딸을 구하겠구나 싶었는데 끝나더라.. 진짜 허무했음. ...      2\n",
       "2206                                   시작하자마자 멍청한 홍콩경찰들      2\n",
       "2207  ㅋ 우스운영화를보았음..한국공포가 왜이래 한30년전에찍었었나..제대로보여주는것암것도...      2\n",
       "2208  영화가 시작하고 10분이 지났는데 끄고싶다...끝까지본 내가 자랑스럽다....뻔함의...      2"
      ]
     },
     "execution_count": 29,
     "metadata": {},
     "output_type": "execute_result"
    }
   ],
   "source": [
    "train_df.tail()"
   ]
  },
  {
   "cell_type": "code",
   "execution_count": 30,
   "metadata": {},
   "outputs": [],
   "source": [
    "train_df.to_csv(\"train_data.csv\", index=False)"
   ]
  }
 ],
 "metadata": {
  "kernelspec": {
   "display_name": "chat_bot_36",
   "language": "python",
   "name": "python3"
  },
  "language_info": {
   "codemirror_mode": {
    "name": "ipython",
    "version": 3
   },
   "file_extension": ".py",
   "mimetype": "text/x-python",
   "name": "python",
   "nbconvert_exporter": "python",
   "pygments_lexer": "ipython3",
   "version": "3.6.13"
  }
 },
 "nbformat": 4,
 "nbformat_minor": 2
}
